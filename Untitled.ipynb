{
 "cells": [
  {
   "cell_type": "code",
   "execution_count": null,
   "id": "84b0f7e7",
   "metadata": {},
   "outputs": [],
   "source": [
    "run -i 'main.py' --no_samples 10000000 --bin_size 100"
   ]
  },
  {
   "cell_type": "code",
   "execution_count": null,
   "id": "a5690062",
   "metadata": {},
   "outputs": [],
   "source": []
  }
 ],
 "metadata": {
  "kernelspec": {
   "display_name": "Python 3.9.2 64-bit ('py39': conda)",
   "language": "python",
   "name": "python39264bitpy39conda733e1cfa82414a0d9ea7a2afaa278396"
  },
  "language_info": {
   "codemirror_mode": {
    "name": "ipython",
    "version": 3
   },
   "file_extension": ".py",
   "mimetype": "text/x-python",
   "name": "python",
   "nbconvert_exporter": "python",
   "pygments_lexer": "ipython3",
   "version": "3.9.2"
  }
 },
 "nbformat": 4,
 "nbformat_minor": 5
}
